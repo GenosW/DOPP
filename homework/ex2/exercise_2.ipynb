{
 "cells": [
  {
   "cell_type": "markdown",
   "metadata": {
    "deletable": false,
    "editable": false,
    "nbgrader": {
     "cell_type": "markdown",
     "checksum": "a7522a607648f8d862df009d619945d6",
     "grade": false,
     "grade_id": "cell-f3edff376e95832e",
     "locked": true,
     "schema_version": 3,
     "solution": false,
     "task": false
    }
   },
   "source": [
    "# DOPP 2021W Exercise 2\n",
    "\n",
    "### Before you get started, please read the instructions in this notebook carefully."
   ]
  },
  {
   "cell_type": "markdown",
   "metadata": {
    "deletable": false,
    "editable": false,
    "hidden": true,
    "nbgrader": {
     "cell_type": "markdown",
     "checksum": "c1840af6c537e1462cd13667f9563944",
     "grade": false,
     "grade_id": "cell-3e8baa003bd25109",
     "locked": true,
     "schema_version": 3,
     "solution": false,
     "task": false
    }
   },
   "source": [
    "## Preliminaries\n",
    "\n",
    "- Please use only Python **version 3.6 or higher**. It is recommended to run the notebook on the JupyterHub. \n",
    "\n",
    "\n",
    "- This notebook will be scored using [nbgrader](https://nbgrader.readthedocs.io/en/stable/index.html). \n",
    "- Please use the code stubs provided, add and modify your code only at the provided markers, do not rename any functions. \n",
    "- Make sure that your assignment executes without any errors on the JupyterHub before submitting it. Submissions that do not execute will not be accepted.\n",
    "- Do not change cell tags, as this may mess up the Validation and auto-grading features.\n",
    "\n",
    "\n",
    "The submission deadline is **29.11.2021 23:55.**\n",
    "\n",
    "Sections marked with `# YOUR CODE HERE` must be used to implement the functionality.\n",
    "Cells containing `YOUR ANSWER HERE` must be used to fill in textual answers.\n",
    "\n",
    "There is a total of 100 points that can be reached.\n",
    "\n",
    "You might be awarded additional points for **good code quality**."
   ]
  },
  {
   "cell_type": "code",
   "execution_count": null,
   "metadata": {
    "hidden": true
   },
   "outputs": [],
   "source": [
    "# Note: The only imports allowed are Python's standard library, pandas, numpy, scipy, matplotlib and scikit-learn\n",
    "import numpy as np\n",
    "import pandas as pd\n",
    "import glob\n",
    "import os\n",
    "import matplotlib.pyplot as plt\n",
    "import re\n",
    "\n",
    "# add imports as needed\n",
    "# import sklearn...\n"
   ]
  },
  {
   "cell_type": "markdown",
   "metadata": {
    "deletable": false,
    "editable": false,
    "hidden": true,
    "nbgrader": {
     "cell_type": "markdown",
     "checksum": "b0fc827d83cba24ec3ab15cefaa70da8",
     "grade": false,
     "grade_id": "cell-4fdf20ffb0528689",
     "locked": true,
     "schema_version": 3,
     "solution": false,
     "task": false
    }
   },
   "source": [
    "## Goal\n",
    "\n",
    "In this exercise, you will \n",
    " * use `pandas` to read, prepare and transform data,\n",
    " * use `matplotlib` to visually analyse data,\n",
    " * use `scikit-learn` to build prediction models.\n",
    "\n",
    "\n",
    "The goal of this exercise is to model the relationship between weather observations and the prevalence of new influenza infections.\n",
    "\n",
    "To investigate a potential relationship, we will use two datasets:\n",
    " * hourly [weather observation data](https://dane.imgw.pl/#dane-archiwalne) in [Łódź](https://en.wikipedia.org/wiki/%C5%81%C3%B3d%C5%BA), Poland (2010-2020)\n",
    " * weekly reports on [new influenza infections](https://www.gov.pl/web/wsse-lodz/zachorowania-na-grype) in Łódź (2010-2021).\n",
    "\n",
    "The data to be used can be found in the subdirectory named `data`. \n",
    "\n",
    "To complete this exercise, you will have to:\n",
    "* prepare the data, which (at minimum) involves the following:\n",
    "    - handling missing values,\n",
    "    - handling outliers\n",
    "    - temporal alignment (i.e. convert hourly weather data to weekly data using appropriate aggregation functions and then merging with influenza data),\n",
    "* analyse the data:\n",
    "    - compare descriptive statistics,\n",
    "    - visually investigate the raw data to gain an understanding of the data, identify patterns, outliers etc.,\n",
    "    - look at the relationship between the variables of interest,\n",
    "* model the relationship:\n",
    "    - fit a model that predicts new infections from weather observation data.\n",
    "    \n",
    "    \n",
    "**Note:** In case you encounter problems with loading and processing the data (tasks 1-5), we will provide you also with a pickled version of preprocessed and merged datasets that you can use to complete the remaining parts of the exercise (tasks 6-8)."
   ]
  },
  {
   "cell_type": "markdown",
   "metadata": {
    "deletable": false,
    "editable": false,
    "nbgrader": {
     "cell_type": "markdown",
     "checksum": "afada0bb29398d554d55969820fd4f85",
     "grade": false,
     "grade_id": "cell-92513ae578424a6a",
     "locked": true,
     "schema_version": 3,
     "solution": false,
     "task": false
    }
   },
   "source": [
    "## Task 0: Data Examination\n",
    "\n",
    "Maximum number of *extra* points for this task: **5**\n",
    "\n",
    "- This is an open task, where you are free to show all the data examination and experimentations preceeding actual work on the assignment\n",
    "- You can also include some preliminary plots and analysis of the data content which you used to solve remaining tasks\n",
    "- You can create additional cells for this task\n"
   ]
  },
  {
   "cell_type": "code",
   "execution_count": null,
   "metadata": {
    "deletable": false,
    "nbgrader": {
     "cell_type": "code",
     "checksum": "dae8e726bcc9188d84a7edd1f23f8dda",
     "grade": true,
     "grade_id": "cell-b9cbde78742c6896",
     "locked": false,
     "points": 0,
     "schema_version": 3,
     "solution": true,
     "task": false
    }
   },
   "outputs": [],
   "source": [
    "# YOUR CODE HERE\n",
    "\n",
    "# raise NotImplementedError()"
   ]
  },
  {
   "cell_type": "markdown",
   "metadata": {
    "deletable": false,
    "editable": false,
    "heading_collapsed": true,
    "nbgrader": {
     "cell_type": "markdown",
     "checksum": "627392bff04e2bb57bbdf34ca9e5a6d8",
     "grade": false,
     "grade_id": "cell-229171ad2a65880f",
     "locked": true,
     "schema_version": 3,
     "solution": false,
     "task": false
    }
   },
   "source": [
    "## Task 1: Load Data\n",
    "\n",
    "Total number of points for completing this task: **20**"
   ]
  },
  {
   "cell_type": "markdown",
   "metadata": {
    "deletable": false,
    "editable": false,
    "hidden": true,
    "nbgrader": {
     "cell_type": "markdown",
     "checksum": "052fa59bb2faade1ffb6da5377276dba",
     "grade": false,
     "grade_id": "cell-1e8af7000c653c50",
     "locked": true,
     "schema_version": 3,
     "solution": false,
     "task": false
    }
   },
   "source": [
    "### Weather observations\n",
    "\n",
    "As a first step, implement the method `load_weather_data()`, which should read all individual (yearly) datasets from the csv files in `data\\weather\\` into a single `pd.DataFrame` and return it. \n",
    "\n",
    "- make sure that you load all the data (2010-2020)\n",
    "- make sure that all columns are appropriately named, use `data\\weather\\names.txt` file to fill in column names\n",
    "- from the `Year`, `Month`, `Day` and `Hour` columns create column `Date` and `Week`, where `Date` is a [`pandas.Timestamp`](https://pandas.pydata.org/pandas-docs/stable/reference/api/pandas.Timestamp.html) object and `Week` contains the week number of the date. Use Pandas built-in datetime handling features.\n",
    "- create a `MultiIndex` from the date columns with the following hierarchy: `Year` - `Month` - `Week` - `Day` - `Hour` (make sure to label them accordingly)\n",
    "\n",
    "\n",
    "**Hints:**\n",
    " \n",
    " - LOOK at the data in the original files\n",
    " - It is advisable not to append each data set individually, but to read each data frame, store it into a list and  combine them once at the end.\n",
    " - Your resulting data frame should look as follows:\n",
    "\n",
    "![Weather data frame example](weather_data_dataframe_sample.png)"
   ]
  },
  {
   "cell_type": "code",
   "execution_count": null,
   "metadata": {
    "deletable": false,
    "hidden": true,
    "nbgrader": {
     "cell_type": "code",
     "checksum": "60826ab180f768776fd7e5ada5395d5f",
     "grade": true,
     "grade_id": "task_1_1",
     "locked": false,
     "points": 3,
     "schema_version": 3,
     "solution": true,
     "task": false
    }
   },
   "outputs": [],
   "source": [
    "\n",
    "\n",
    "\n",
    "def load_weather_data():\n",
    "    \"\"\"\n",
    "    Load all weather data files and combine them into a single Pandas DataFrame.\n",
    "    Add a week column and a hierarchical index (year, month, week, day)\n",
    "\n",
    "    Returns\n",
    "    --------\n",
    "    weather_data: data frame containing the weather data\n",
    "    \"\"\"\n",
    "    def check_header_uniqueness(header: list):\n",
    "        if len(header) != len(set(header)):\n",
    "            raise ValueError(\"Header contains duplicate names!\")\n",
    "            \n",
    "    with open(\"data/weather/names.txt\", \"r\") as f:\n",
    "        header = f.read().splitlines()\n",
    "    check_header_uniqueness(header)\n",
    "\n",
    "    data_glob = glob.glob(\"data/weather/*.csv\")\n",
    "    # low_memory: bool, default True\n",
    "    # Internally process the file in chunks, resulting in lower memory use while parsing, but possibly mixed type inference. To ensure no mixed types either set False, or specify the type with the dtype parameter. Note that the entire file is read into a single DataFrame regardless, use the chunksize or iterator parameter to return the data in chunks. (Only valid with C parser).\n",
    "    #\n",
    "    # pandas warned that it infered mixed types when using the chunked file loading.\n",
    "    # To avoid this potential problem, I set low_memory to false. The files are roughly 3MB big, so this shouldn't be an issue here!\n",
    "    weather_data = pd.concat(\n",
    "        [\n",
    "            pd.read_csv(data_file, names=header, low_memory=False)\n",
    "            for data_file in data_glob\n",
    "        ]\n",
    "    )\n",
    "\n",
    "    date_cols = [\"Year\", \"Month\", \"Day\", \"Hour\"]\n",
    "\n",
    "    for col in date_cols:\n",
    "        print(f\"Is {col} in weather_data: {col in weather_data.columns}\")\n",
    "\n",
    "    # Add week column\n",
    "    weather_data[\"Week\"] = pd.to_datetime(\n",
    "        weather_data[date_cols]\n",
    "    )\n",
    "    weather_data[\"Week\"] = weather_data[\"Week\"].dt.isocalendar().week\n",
    "\n",
    "    # Setup multi index\n",
    "    weather_data = weather_data.set_index([\"Year\", \"Month\", \"Week\", \"Day\", \"Hour\"])\n",
    "\n",
    "    return weather_data\n",
    "\n",
    "\n",
    "data_weather = load_weather_data()\n",
    "\n",
    "data_weather\n"
   ]
  },
  {
   "cell_type": "code",
   "execution_count": null,
   "metadata": {
    "deletable": false,
    "editable": false,
    "nbgrader": {
     "cell_type": "code",
     "checksum": "e6416825a7280bb5c39ce9b01b1b67c0",
     "grade": true,
     "grade_id": "cell-105f2bc20d2ec819",
     "locked": true,
     "points": 3,
     "schema_version": 3,
     "solution": false,
     "task": false
    }
   },
   "outputs": [],
   "source": [
    "assert data_weather.shape[0] == 96432\n",
    "assert data_weather.shape[1] > 102\n",
    "\n",
    "# additional tests"
   ]
  },
  {
   "cell_type": "code",
   "execution_count": null,
   "metadata": {
    "deletable": false,
    "editable": false,
    "nbgrader": {
     "cell_type": "code",
     "checksum": "2f9be2a67d0240b30326607022c9fed9",
     "grade": true,
     "grade_id": "cell-a11f356acc3c6fc8",
     "locked": true,
     "points": 1,
     "schema_version": 3,
     "solution": false,
     "task": false
    }
   },
   "outputs": [],
   "source": [
    "# hidden tests"
   ]
  },
  {
   "cell_type": "markdown",
   "metadata": {
    "deletable": false,
    "editable": false,
    "nbgrader": {
     "cell_type": "markdown",
     "checksum": "6233475258d403d4debde4f6249e75df",
     "grade": false,
     "grade_id": "cell-1eb6d1fe9b4fc315",
     "locked": true,
     "schema_version": 3,
     "solution": false,
     "task": false
    }
   },
   "source": [
    "**Q** Which combination of year+week has the lowest number of entries? You should find the respective entry/entries using pandas. Return the first answer if there is more than one combination fulfilling these criteria."
   ]
  },
  {
   "cell_type": "code",
   "execution_count": null,
   "metadata": {
    "deletable": false,
    "nbgrader": {
     "cell_type": "code",
     "checksum": "2dd00ad900ce5a65e87453e68068737a",
     "grade": false,
     "grade_id": "cell-34f1fea7203a7f0c",
     "locked": false,
     "schema_version": 3,
     "solution": true,
     "task": false
    }
   },
   "outputs": [],
   "source": [
    "# fill your answer into these variables\n",
    "year = 0 \n",
    "week = 0\n",
    "# YOUR CODE HERE\n",
    "        \n",
    "def find_full_column(df):\n",
    "    missing_value_counts = df.isnull().sum()\n",
    "    if missing_value_counts.min() == 0:\n",
    "        return missing_value_counts.idxmin()\n",
    "    else:\n",
    "        return None\n",
    "\n",
    "col = find_full_column(data_weather)\n",
    "\n",
    "df_num_entries = data_weather.groupby([\"Year\", \"Week\"]).count()\n",
    "year, week = df_num_entries[col].idxmin()\n",
    "num_entries = df_num_entries[col].min()\n",
    "print(f\"Year {year}, week {week} has the fewest entries with: {num_entries}\")"
   ]
  },
  {
   "cell_type": "code",
   "execution_count": null,
   "metadata": {
    "deletable": false,
    "editable": false,
    "nbgrader": {
     "cell_type": "code",
     "checksum": "d90254ebf6f01f91917fc975375cf80b",
     "grade": true,
     "grade_id": "cell-4b65d9fc4776d2e1",
     "locked": true,
     "points": 1,
     "schema_version": 3,
     "solution": false,
     "task": false
    }
   },
   "outputs": [],
   "source": [
    "# hidden tests"
   ]
  },
  {
   "cell_type": "markdown",
   "metadata": {
    "deletable": false,
    "editable": false,
    "hidden": true,
    "nbgrader": {
     "cell_type": "markdown",
     "checksum": "48df504786b24848b063824ad59a77bc",
     "grade": false,
     "grade_id": "cell-dd1453912bfabbb7",
     "locked": true,
     "schema_version": 3,
     "solution": false,
     "task": false
    }
   },
   "source": [
    "### Influenza infections\n",
    "\n",
    "Load and prepare the second dataset (`data/influenza/influenza.csv`), which contains the number of new influenza infections on a weekly basis, as follows:\n",
    "\n",
    "- Stack all seasonal data into one column\n",
    "- Convert months written in roman numerals to arabic numbers (II -> 2) and save them into `Month` column\n",
    "- For each entry extract year based on the season and month values\n",
    "- Extract week data into column `Week`\n",
    "- Create a `MultiIndex` from the `Year` and `Week` columns\n",
    "- Rename column containing influenza cases as `Influenza_cases`\n",
    "- Make sure that all columns are appropriately typed\n",
    "- Remove rows with missing infection counts\n",
    "- Your resulting data frame should look as follows:\n",
    "\n",
    "![Example data frame](influenza_data_dataframe_sample.png)"
   ]
  },
  {
   "cell_type": "code",
   "execution_count": null,
   "metadata": {
    "deletable": false,
    "hidden": true,
    "nbgrader": {
     "cell_type": "code",
     "checksum": "7139541eb5db1e23e123a17de87525c6",
     "grade": true,
     "grade_id": "cell-53ad536ee8e2a817",
     "locked": false,
     "points": 3,
     "schema_version": 3,
     "solution": true,
     "task": false
    }
   },
   "outputs": [],
   "source": [
    "def load_influenza_data():\n",
    "    \"\"\" \n",
    "    Load and prepare the influenza data file\n",
    "    \n",
    "    Returns\n",
    "    --------\n",
    "    influenza_data: data frame containing the influenza data\n",
    "    \"\"\"\n",
    "    # YOUR CODE HERE\n",
    "\n",
    "    month_conversion = {\n",
    "        \"I\": 1,\n",
    "        \"II\": 2,\n",
    "        \"III\": 3,\n",
    "        \"IV\": 4,\n",
    "        \"V\": 5,\n",
    "        \"VI\": 6,\n",
    "        \"VII\": 7,\n",
    "        \"VIII\": 8,\n",
    "        \"IX\": 9,\n",
    "        \"X\": 10,\n",
    "        \"XI\": 11,\n",
    "        \"XII\": 12,\n",
    "    }\n",
    "\n",
    "    data_path = \"data/influenza/influenza.csv\"\n",
    "    \n",
    "    influenza_data = pd.read_csv(data_path, header=0)\n",
    "    influenza_data[\"Month\"] =  influenza_data[\"week\"].apply(lambda entry: month_conversion[entry.split(\".\")[1]])\n",
    "    influenza_data[\"Week\"] =  influenza_data[\"week\"].apply(lambda entry: int(entry.split(\".\")[0]))\n",
    "    # Column 'week' will later not be copied\n",
    "\n",
    "    # Extract columns with 'season' in them\n",
    "    seasons = [col for col in influenza_data.columns if \"season\" in col]\n",
    "\n",
    "    # functions to extract the correct year out of 'season' and 'month'\n",
    "    def extract_years(season:str):\n",
    "        return re.findall(\"([0-9]{4})\", season)\n",
    "\n",
    "    def which_year(month:int):\n",
    "        if month > 8:\n",
    "            return 1\n",
    "        return 0\n",
    "\n",
    "    # Construct new dataframes \n",
    "    df_list = []\n",
    "    for season in seasons:\n",
    "        years = list(map(int, extract_years(season)))\n",
    "        if len(years) != 2:\n",
    "            print(\"error\")\n",
    "        df = influenza_data[[\"Week\", \"Month\", season]]\n",
    "        df[\"Year\"] = df[\"Month\"].apply(lambda x: years[which_year(x)] )\n",
    "        df = df.rename(columns={season: \"Influenza_cases\"})\n",
    "        df = df.set_index([\"Year\", \"Week\"])\n",
    "        df_list.append(df)\n",
    "\n",
    "    # Construct final aggregated dataframe\n",
    "    influenza_data = pd.concat(df_list).sort_index()\n",
    "    influenza_data = influenza_data.dropna(axis=0)\n",
    "\n",
    "    influenza_data = influenza_data.convert_dtypes()\n",
    "\n",
    "    return influenza_data\n",
    "\n",
    "data_influenza = load_influenza_data()\n",
    "data_influenza.head()"
   ]
  },
  {
   "cell_type": "code",
   "execution_count": null,
   "metadata": {
    "deletable": false,
    "editable": false,
    "nbgrader": {
     "cell_type": "code",
     "checksum": "db22f926da08a6033c4cb4a03afee5c1",
     "grade": true,
     "grade_id": "cell-e7f411bfef4d7115",
     "locked": true,
     "points": 3,
     "schema_version": 3,
     "solution": false,
     "task": false
    }
   },
   "outputs": [],
   "source": [
    "assert data_influenza.shape == (356, 2)\n",
    "# additional tests\n"
   ]
  },
  {
   "cell_type": "code",
   "execution_count": null,
   "metadata": {
    "deletable": false,
    "editable": false,
    "nbgrader": {
     "cell_type": "code",
     "checksum": "afb48502d9b94e0b9cd0b244caf5d77a",
     "grade": true,
     "grade_id": "cell-7be34ad855bcc5a4",
     "locked": true,
     "points": 3,
     "schema_version": 3,
     "solution": false,
     "task": false
    },
    "tags": []
   },
   "outputs": [],
   "source": [
    "# hidden tests"
   ]
  },
  {
   "cell_type": "markdown",
   "metadata": {
    "deletable": false,
    "editable": false,
    "nbgrader": {
     "cell_type": "markdown",
     "checksum": "6fa03a238c6632714299e2bb8bca632c",
     "grade": false,
     "grade_id": "cell-41c2943747b9f8ee",
     "locked": true,
     "schema_version": 3,
     "solution": false,
     "task": false
    }
   },
   "source": [
    "**Q:** Which combination of year+week shows the highest number of infections? You should find the respective entry/entries using pandas. Return the first answer if there is more than one combination fulfilling these criteria."
   ]
  },
  {
   "cell_type": "code",
   "execution_count": null,
   "metadata": {
    "deletable": false,
    "nbgrader": {
     "cell_type": "code",
     "checksum": "748f97d48a60309849e3d7d061189124",
     "grade": false,
     "grade_id": "cell-66fd063e9fd7790b",
     "locked": false,
     "schema_version": 3,
     "solution": true,
     "task": false
    }
   },
   "outputs": [],
   "source": [
    "# fill your answer into these variables\n",
    "year = 0 \n",
    "week = 0\n",
    "\n",
    "# YOUR CODE HERE\n",
    "        \n",
    "year, week = data_influenza[\"Influenza_cases\"].idxmax()\n",
    "max_cases = data_influenza[\"Influenza_cases\"].max()\n",
    "print(f\"Year {year}, week {week} has the highest number of infections with: {max_cases}\")"
   ]
  },
  {
   "cell_type": "code",
   "execution_count": null,
   "metadata": {
    "deletable": false,
    "editable": false,
    "nbgrader": {
     "cell_type": "code",
     "checksum": "698ed21e229014a45c04518c2214d5e4",
     "grade": true,
     "grade_id": "cell-e4d0caffee11b7f1",
     "locked": true,
     "points": 1,
     "schema_version": 3,
     "solution": false,
     "task": false
    }
   },
   "outputs": [],
   "source": [
    "# hidden tests"
   ]
  },
  {
   "cell_type": "markdown",
   "metadata": {
    "deletable": false,
    "editable": false,
    "nbgrader": {
     "cell_type": "markdown",
     "checksum": "a4595673dd5823013e3a389a153e0324",
     "grade": false,
     "grade_id": "cell-2beb19ac2cbc4418",
     "locked": true,
     "schema_version": 3,
     "solution": false,
     "task": false
    }
   },
   "source": [
    "**Q:** Which combination of year+month shows the highest number of infections? You should find the respective entry/entries using pandas. Return the first answer if there is more than one combination fulfilling these criteria."
   ]
  },
  {
   "cell_type": "code",
   "execution_count": null,
   "metadata": {
    "deletable": false,
    "nbgrader": {
     "cell_type": "code",
     "checksum": "79b49746610a891a742e6fabd4265cea",
     "grade": false,
     "grade_id": "cell-b5908466843d7806",
     "locked": false,
     "schema_version": 3,
     "solution": true,
     "task": false
    }
   },
   "outputs": [],
   "source": [
    "# fill your answer into these variables\n",
    "year = 0 \n",
    "month = 0\n",
    "\n",
    "# YOUR CODE HERE\n",
    "df = data_influenza.groupby([\"Year\", \"Month\"])\n",
    "df.head()\n",
    "# max_cases = data_influenza[\"Influenza_cases\"].max()\n",
    "# print(f\"Year {year}, month {month} has the highest number of infections with: {max_cases}\")"
   ]
  },
  {
   "cell_type": "code",
   "execution_count": null,
   "metadata": {
    "deletable": false,
    "editable": false,
    "nbgrader": {
     "cell_type": "code",
     "checksum": "f77e343150ffd3e2d027f9c59f87f73b",
     "grade": true,
     "grade_id": "cell-e75a55b73338c206",
     "locked": true,
     "points": 1,
     "schema_version": 3,
     "solution": false,
     "task": false
    }
   },
   "outputs": [],
   "source": [
    "# hidden tests"
   ]
  },
  {
   "cell_type": "markdown",
   "metadata": {
    "deletable": false,
    "editable": false,
    "heading_collapsed": true,
    "nbgrader": {
     "cell_type": "markdown",
     "checksum": "2e066cee2bd6e9e24ec0bd6b8c292ecd",
     "grade": false,
     "grade_id": "cell-eaed0608e1e878dd",
     "locked": true,
     "schema_version": 3,
     "solution": false,
     "task": false
    }
   },
   "source": [
    "## Task 2: Handling Missing Values\n",
    "\n",
    "Total number of points for completing this task: **15**"
   ]
  },
  {
   "cell_type": "markdown",
   "metadata": {
    "deletable": false,
    "editable": false,
    "hidden": true,
    "nbgrader": {
     "cell_type": "markdown",
     "checksum": "78ddade1ea75558d9194ebd7fdd1602a",
     "grade": false,
     "grade_id": "cell-7b160d858ba90ffd",
     "locked": true,
     "schema_version": 3,
     "solution": false,
     "task": false
    }
   },
   "source": [
    "If you take a closer look at the data, you will notice that a few of the observations are missing.\n",
    "\n",
    "There is a wide range of standard strategies to deal with such missing values, including:\n",
    "\n",
    "- row deletion\n",
    "- substitution methods (e.g., replace with mean or median)\n",
    "- hot-/cold-deck methods (impute from a randomly selected similar record)\n",
    "- regression methods\n",
    "\n",
    "To decide which strategy is appropriate, it is essential to investigate the mechanism that led to the missing values to find out whether the missing data is missing completely at random, missing at random, or missing not at random. \n",
    "\n",
    " - **MCAR** (Missing Completely At Random) means that there is no relationship between the missingness of the data and any of the values.\n",
    " - **MAR** (Missing At Random) means that there is a systematic relationship between the propensity of missing values and the observed data, but not the missing data.\n",
    " - **MNAR** (Missing Not At Random) means that there is a systematic relationship between the propensity of a value to be missing and its values. \n",
    " \n",
    "\n",
    "_______\n",
    "\n",
    "You talked to the meteorologists who compiled the data to find out more about what mechanisms may have caused the missing values. \n",
    "\n",
    "They told you that they do not know why some of the temperature (`Air Temperature [°C]`) and pressure (`Surface pressure [hPa]` and `Mean sea-level pressure [hPa]`) readings are missing, but someone may have forgotten to record them. In any case, the propensity of temperature and pressure values to be missing does not have anything to do with the weather itself.\n",
    "\n",
    "As far as the missing humidity readings are concerned (`Relative humidity [%]`), according to their experience, they suspect that the humidity sensor is less reliable when the wind blows directly from the West.\n",
    "\n",
    "Check the plausibility of these hypotheses in the data, consider the implications, and devise an appropriate strategy to deal with the various missing values.\n",
    "\n",
    "You also received an additional file from the meteorologists: `data\\weather\\description.txt` that contains description of the columns. According to that file, if data in a column called `Measurement status _X_` contains a specific code (either 8 or 9) then the preceding column value is not reliable. For example, when value for `Measurement status PORW` is equal to 8 or 9, then readings for `Wind gust  [m/s]` column should be treated as missing.\n",
    "\n",
    "\n",
    "Because of the sensitivity of the sensor, wind gust data is unavailable for many records. Meteorologists tell you, that for this station, missing wind gust data could be easily approximated by multiplying standard wind speed (`Wind speed  [m/s]`) by a factor o 1.55.\n",
    "\n",
    "\n",
    "- Handle missing values for the following columns: `Air Temperature [°C]`, `Surface pressure [hPa]`, `Mean sea-level pressure [hPa]`, `Relative humidity [%]` and `Wind gust  [m/s]`\n",
    "- For the remaining columns, especially `Measurement status _X_`, it is ok to fill the missing values with 0\n",
    "\n",
    "To implement your strategy, you can use a range of standard mechanisms provided by Pandas, by implementing `handle_missingValues_simple`, or implement a custom strategy (for extra points, by implementing `handle_missingValues_advanced`)."
   ]
  },
  {
   "cell_type": "code",
   "execution_count": null,
   "metadata": {
    "deletable": false,
    "nbgrader": {
     "cell_type": "code",
     "checksum": "9e6d0c1c4de3d1f39c9d705e42c4f2ff",
     "grade": true,
     "grade_id": "cell-4b098b977e3c6e0f",
     "locked": false,
     "points": 3,
     "schema_version": 3,
     "solution": true,
     "task": false
    }
   },
   "outputs": [],
   "source": [
    "# YOUR CODE HERE\n",
    "raise NotImplementedError()"
   ]
  },
  {
   "cell_type": "code",
   "execution_count": null,
   "metadata": {
    "deletable": false,
    "hidden": true,
    "nbgrader": {
     "cell_type": "code",
     "checksum": "cfd17210f9ad92716527fc02060d0cf9",
     "grade": true,
     "grade_id": "cell-d0206b1a358470cb",
     "locked": false,
     "points": 3,
     "schema_version": 3,
     "solution": true,
     "task": false
    }
   },
   "outputs": [],
   "source": [
    "def handle_missingValues_simple(incomplete_data):\n",
    "    \"\"\" \n",
    "    Parameters\n",
    "    --------\n",
    "    incomplete_data: data frame containing missing values \n",
    "    \n",
    "    Returns\n",
    "    --------\n",
    "    complete_data: data frame not containing any missing values\n",
    "    \"\"\"\n",
    "    # YOUR CODE HERE\n",
    "    raise NotImplementedError()\n",
    "    return complete_data\n",
    "\n",
    "\n",
    "def handle_missingValues_advanced(incomplete_data):\n",
    "    \"\"\" \n",
    "    Parameters\n",
    "    --------\n",
    "    data: data frame containing missing values \n",
    "    \n",
    "    Returns\n",
    "    --------\n",
    "    data: data frame not containing any missing values\n",
    "    \"\"\"\n",
    "    # YOUR CODE HERE\n",
    "    raise NotImplementedError()\n",
    "    \n",
    "    return complete_data\n",
    "    \n",
    "data_weather_complete = handle_missingValues_simple(data_weather)"
   ]
  },
  {
   "cell_type": "code",
   "execution_count": null,
   "metadata": {
    "deletable": false,
    "editable": false,
    "nbgrader": {
     "cell_type": "code",
     "checksum": "415584670e4796223da08f257a82b400",
     "grade": true,
     "grade_id": "cell-76b89778496da761",
     "locked": true,
     "points": 1,
     "schema_version": 3,
     "solution": false,
     "task": false
    }
   },
   "outputs": [],
   "source": [
    "# hidden tests"
   ]
  },
  {
   "cell_type": "code",
   "execution_count": null,
   "metadata": {
    "deletable": false,
    "editable": false,
    "nbgrader": {
     "cell_type": "code",
     "checksum": "a61c3eb7a1dd1583eb5c5d95b9b61efd",
     "grade": true,
     "grade_id": "cell-0e9020f96f93e0c5",
     "locked": true,
     "points": 1,
     "schema_version": 3,
     "solution": false,
     "task": false
    }
   },
   "outputs": [],
   "source": [
    "# hidden tests"
   ]
  },
  {
   "cell_type": "code",
   "execution_count": null,
   "metadata": {
    "deletable": false,
    "editable": false,
    "nbgrader": {
     "cell_type": "code",
     "checksum": "e71af7506096da9ab20dc019adf24612",
     "grade": true,
     "grade_id": "cell-52cdc3d2df752f19",
     "locked": true,
     "points": 1,
     "schema_version": 3,
     "solution": false,
     "task": false
    }
   },
   "outputs": [],
   "source": [
    "# hidden tests"
   ]
  },
  {
   "cell_type": "markdown",
   "metadata": {
    "deletable": false,
    "editable": false,
    "hidden": true,
    "nbgrader": {
     "cell_type": "markdown",
     "checksum": "c248e4db9c80ad217ba6575a8c8b6eb0",
     "grade": false,
     "grade_id": "cell-f664216cc88bb39a",
     "locked": true,
     "schema_version": 3,
     "solution": false,
     "task": false
    }
   },
   "source": [
    "###  Discussion\n",
    "\n",
    "#### Pros and Cons of strategies for dealing with missing data\n",
    "\n",
    "In the cell provided below, discuss the PROs and CONs of various strategies (row deletion, imputation, hot deck methods etc.) for dealing with missing data. Discuss when it is appropriate to use each method."
   ]
  },
  {
   "cell_type": "markdown",
   "metadata": {
    "deletable": false,
    "nbgrader": {
     "cell_type": "markdown",
     "checksum": "646cb09c24c96eb4d048f7418bb0bd43",
     "grade": true,
     "grade_id": "cell-c3f1ed5e4903b2c8",
     "locked": false,
     "points": 3,
     "schema_version": 3,
     "solution": true,
     "task": false
    }
   },
   "source": [
    "YOUR ANSWER HERE"
   ]
  },
  {
   "cell_type": "markdown",
   "metadata": {
    "deletable": false,
    "editable": false,
    "hidden": true,
    "nbgrader": {
     "cell_type": "markdown",
     "checksum": "6d225d041313e48e1898dbc9967497a9",
     "grade": false,
     "grade_id": "cell-7cf341064d4ce76b",
     "locked": true,
     "schema_version": 3,
     "solution": false,
     "task": false
    }
   },
   "source": [
    "#### Your chosen strategy <span style=\"color:blue\">\n",
    "\n",
    "Explain your chosen strategy for dealing with missing values for the various attributes in the cell below.\n"
   ]
  },
  {
   "cell_type": "markdown",
   "metadata": {
    "deletable": false,
    "nbgrader": {
     "cell_type": "markdown",
     "checksum": "f07fc5ebb51bab6a7367b8c79b53e0aa",
     "grade": true,
     "grade_id": "cell-c28d8f6c675ba3ea",
     "locked": false,
     "points": 3,
     "schema_version": 3,
     "solution": true,
     "task": false
    }
   },
   "source": [
    "YOUR ANSWER HERE"
   ]
  },
  {
   "cell_type": "markdown",
   "metadata": {
    "deletable": false,
    "editable": false,
    "heading_collapsed": true,
    "nbgrader": {
     "cell_type": "markdown",
     "checksum": "f631d140f625ba54bab8d2105b8e7afb",
     "grade": false,
     "grade_id": "cell-2c8e580a4d847f6c",
     "locked": true,
     "schema_version": 3,
     "solution": false,
     "task": false
    }
   },
   "source": [
    "## Task 3: Handling Outliers\n",
    "Total number of points for completing this task: **10**"
   ]
  },
  {
   "cell_type": "markdown",
   "metadata": {
    "deletable": false,
    "editable": false,
    "hidden": true,
    "nbgrader": {
     "cell_type": "markdown",
     "checksum": "a6e2a5f53b9d8a5f2996d86892da0894",
     "grade": false,
     "grade_id": "cell-ce009d4cf322d6a7",
     "locked": true,
     "schema_version": 3,
     "solution": false,
     "task": false
    },
    "tags": []
   },
   "source": [
    "If you take a closer look at some of the observations, you should notice that some of the temperature values are not particularly plausible (hint: plotting histograms of the distributions helps). Hypothesize on the nature of these outliers and implement a strategy to handle them."
   ]
  },
  {
   "cell_type": "code",
   "execution_count": null,
   "metadata": {
    "deletable": false,
    "nbgrader": {
     "cell_type": "code",
     "checksum": "11fe3d192cb77b6c44398cf6a3d0a958",
     "grade": true,
     "grade_id": "cell-be28effd64f49570",
     "locked": false,
     "points": 2,
     "schema_version": 3,
     "solution": true,
     "task": false
    }
   },
   "outputs": [],
   "source": [
    "# YOUR CODE HERE\n",
    "raise NotImplementedError()"
   ]
  },
  {
   "cell_type": "code",
   "execution_count": null,
   "metadata": {
    "deletable": false,
    "hidden": true,
    "nbgrader": {
     "cell_type": "code",
     "checksum": "6e0e80d466b7835c01074685c723295b",
     "grade": true,
     "grade_id": "cell-04412c26ecaea8c1",
     "locked": false,
     "points": 1,
     "schema_version": 3,
     "solution": true,
     "task": false
    }
   },
   "outputs": [],
   "source": [
    "def handle_outliers(noisy_data):\n",
    "    \"\"\"\n",
    "    Parameters\n",
    "    --------\n",
    "    noisy_data: data frame that contains outliers\n",
    "    \n",
    "    Returns\n",
    "    --------\n",
    "    cleaned_data: data frame with outliers\n",
    "    \"\"\"\n",
    "    # YOUR CODE HERE\n",
    "    raise NotImplementedError()\n",
    "    \n",
    "    return cleaned_data\n",
    "    \n",
    "data_weather_cleaned = handle_outliers(data_weather_complete)"
   ]
  },
  {
   "cell_type": "code",
   "execution_count": null,
   "metadata": {
    "deletable": false,
    "editable": false,
    "nbgrader": {
     "cell_type": "code",
     "checksum": "4d168fc013fa5a1f1604554e93b1a023",
     "grade": true,
     "grade_id": "cell-b129bb05cb3cc4c2",
     "locked": true,
     "points": 1,
     "schema_version": 3,
     "solution": false,
     "task": false
    }
   },
   "outputs": [],
   "source": [
    "# hidden tests"
   ]
  },
  {
   "cell_type": "code",
   "execution_count": null,
   "metadata": {
    "deletable": false,
    "editable": false,
    "nbgrader": {
     "cell_type": "code",
     "checksum": "be39c7efcf2930f37bfe1e5424e2a8e6",
     "grade": true,
     "grade_id": "cell-0f6e7cf0ac91fab4",
     "locked": true,
     "points": 1,
     "schema_version": 3,
     "solution": false,
     "task": false
    }
   },
   "outputs": [],
   "source": [
    "# hidden tests"
   ]
  },
  {
   "cell_type": "code",
   "execution_count": null,
   "metadata": {
    "deletable": false,
    "editable": false,
    "nbgrader": {
     "cell_type": "code",
     "checksum": "7b6edc397cfeebad4993b6967866f861",
     "grade": true,
     "grade_id": "cell-4cf4385a69d27b57",
     "locked": true,
     "points": 1,
     "schema_version": 3,
     "solution": false,
     "task": false
    }
   },
   "outputs": [],
   "source": [
    "# hidden tests"
   ]
  },
  {
   "cell_type": "markdown",
   "metadata": {
    "deletable": false,
    "editable": false,
    "hidden": true,
    "nbgrader": {
     "cell_type": "markdown",
     "checksum": "96c5c68199bf9672382dfc6e067f63ac",
     "grade": false,
     "grade_id": "cell-f4f717cbd0044513",
     "locked": true,
     "schema_version": 3,
     "solution": false,
     "task": false
    }
   },
   "source": [
    "#### Your chosen strategy\n",
    "\n",
    "In the cell below, explain your chosen strategy for dealing with outliers.\n"
   ]
  },
  {
   "cell_type": "markdown",
   "metadata": {
    "deletable": false,
    "hidden": true,
    "nbgrader": {
     "cell_type": "markdown",
     "checksum": "a03eb54b966046f93a8823c38eab378a",
     "grade": true,
     "grade_id": "cell-ebd69975efade608",
     "locked": false,
     "points": 5,
     "schema_version": 3,
     "solution": true,
     "task": false
    }
   },
   "source": [
    "YOUR ANSWER HERE"
   ]
  },
  {
   "cell_type": "markdown",
   "metadata": {
    "deletable": false,
    "editable": false,
    "heading_collapsed": true,
    "nbgrader": {
     "cell_type": "markdown",
     "checksum": "123285818bad32735aa6fef723251244",
     "grade": false,
     "grade_id": "cell-0990eaaca0f65e11",
     "locked": true,
     "schema_version": 3,
     "solution": false,
     "task": false
    }
   },
   "source": [
    "## Task 4: Aggregate values\n",
    "Total number of points for completing this task: **5**"
   ]
  },
  {
   "cell_type": "markdown",
   "metadata": {
    "deletable": false,
    "editable": false,
    "hidden": true,
    "nbgrader": {
     "cell_type": "markdown",
     "checksum": "d9f792bb849e3b36df6973c22f4e1da7",
     "grade": false,
     "grade_id": "cell-49212be7489aed15",
     "locked": true,
     "schema_version": 3,
     "solution": false,
     "task": false
    }
   },
   "source": [
    "Aggregate the observations on a weekly basis. Return a data frame with a hierarchical index (levels `year` and `week`) on the vertical axis and the following weekly aggregations as columns:\n",
    "\n",
    "- `temp_weeklyMin`: minimum of `Air Temperature [°C]`\n",
    "- `temp_weeklyMax`: <span style=\"color:red\">max</span> of `Air Temperature [°C]`\n",
    "- `temp_weeklyMean`: mean of `Air Temperature [°C]`\n",
    "- `temp_weeklyMedian`: median of `Air Temperature [°C]`\n",
    "\n",
    "\n",
    "- `precip_weeklyMin`: min of `Precipitation past 6 hours [mm]`\n",
    "- `precip_weeklyMax`: max of `Precipitation past 6 hours [mm]`\n",
    "- `precip_weeklyMean`: mean of `Precipitation past 6 hours [mm]`\n",
    "\n",
    "\n",
    "- `hum_weeklyMin`: min of `Relative humidity [%]`\n",
    "- `hum_weeklyMax`: max of `Relative humidity [%]`\n",
    "- `hum_weeklyMean`: mean of `Relative humidity [%]`\n",
    "\n",
    "\n",
    "- `wind_weeklyMean`: mean of `Wind speed  [m/s]`\n",
    "- `wind_weeklyMax`: max of `Wind speed  [m/s]`\n",
    "- `gust_weeklyMax`: max of `Wind gust  [m/s]`\n",
    "\n",
    "\n",
    "**Note:** You can create more aggregation columns (for extra points), as depending on selected algorithm, other features might be more informative for prediction.\n",
    "\n",
    "**Note2:** Attentive data scientists might have noticed a problem with isocalendars when aggregating on `Year` and `Week`. You can ignore this for the purpose of this lecture. In real-world settings you might consider addressing this issue, depending on your task and data"
   ]
  },
  {
   "cell_type": "code",
   "execution_count": null,
   "metadata": {
    "deletable": false,
    "hidden": true,
    "nbgrader": {
     "cell_type": "code",
     "checksum": "77d85a90e0d7e7e15f89ecfd49359745",
     "grade": true,
     "grade_id": "cell-554e4bae13ebe817",
     "locked": false,
     "points": 3,
     "schema_version": 3,
     "solution": true,
     "task": false
    }
   },
   "outputs": [],
   "source": [
    "def aggregate_weekly(data):\n",
    "    \"\"\" \n",
    "    Parameters\n",
    "    --------\n",
    "    data: weather data frame\n",
    "    \n",
    "    Returns\n",
    "    --------\n",
    "    weekly_stats: data frame that contains statistics aggregated on a weekly basis\n",
    "    \"\"\"\n",
    "    weekly_weather_data = pd.DataFrame()\n",
    "    # YOUR CODE HERE\n",
    "    raise NotImplementedError()\n",
    "    \n",
    "    return weekly_weather_data\n",
    "\n",
    "data_weather_weekly = aggregate_weekly(data_weather_cleaned)"
   ]
  },
  {
   "cell_type": "code",
   "execution_count": null,
   "metadata": {
    "deletable": false,
    "editable": false,
    "nbgrader": {
     "cell_type": "code",
     "checksum": "b3d8c4563f4071ec2b0bc9cf5687c171",
     "grade": true,
     "grade_id": "cell-1bb242d2e3145f33",
     "locked": true,
     "points": 2,
     "schema_version": 3,
     "solution": false,
     "task": false
    }
   },
   "outputs": [],
   "source": [
    "# hidden tests"
   ]
  },
  {
   "cell_type": "markdown",
   "metadata": {
    "deletable": false,
    "editable": false,
    "heading_collapsed": true,
    "nbgrader": {
     "cell_type": "markdown",
     "checksum": "a584d7c6016cc4782967c26b822460b5",
     "grade": false,
     "grade_id": "cell-133db7b4fddd1ed8",
     "locked": true,
     "schema_version": 3,
     "solution": false,
     "task": false
    }
   },
   "source": [
    "## Task 5: Merge influenza and weather datasets\n",
    "Total number of points for completing this task: **5**"
   ]
  },
  {
   "cell_type": "markdown",
   "metadata": {
    "deletable": false,
    "editable": false,
    "hidden": true,
    "nbgrader": {
     "cell_type": "markdown",
     "checksum": "bb0ce609646ae665499e9fd5d8848c50",
     "grade": false,
     "grade_id": "cell-efae094388f82dbb",
     "locked": true,
     "schema_version": 3,
     "solution": false,
     "task": false
    },
    "tags": []
   },
   "source": [
    "Merge the `data_weather_weekly` and `data_influenza` datasets. Beware that both datasets contain rows that do not appear in the other dataset."
   ]
  },
  {
   "cell_type": "code",
   "execution_count": null,
   "metadata": {
    "deletable": false,
    "hidden": true,
    "nbgrader": {
     "cell_type": "code",
     "checksum": "0391e6471d569fd06c70b7fe9563dc6d",
     "grade": true,
     "grade_id": "cell-9b5da141670f159c",
     "locked": false,
     "points": 2,
     "schema_version": 3,
     "solution": true,
     "task": false
    }
   },
   "outputs": [],
   "source": [
    "def merge_data(weather_df, influenza_df):\n",
    "    \"\"\" \n",
    "    Parameters\n",
    "    --------\n",
    "    weather_df: weekly weather data frame\n",
    "    influenza_df: influenza data frame\n",
    "    \n",
    "    Returns\n",
    "    --------\n",
    "    merged_data: merged data frame that contains both weekly weather observations and prevalence of influence infections\n",
    "    \"\"\"\n",
    "    # YOUR CODE HERE\n",
    "    raise NotImplementedError()\n",
    "\n",
    "    return merged_data\n",
    "\n",
    "data_merged = merge_data(data_weather_weekly, data_influenza)"
   ]
  },
  {
   "cell_type": "code",
   "execution_count": null,
   "metadata": {},
   "outputs": [],
   "source": [
    "data_merged.head()"
   ]
  },
  {
   "cell_type": "code",
   "execution_count": null,
   "metadata": {
    "deletable": false,
    "editable": false,
    "nbgrader": {
     "cell_type": "code",
     "checksum": "2d9c8b64d6c64d283d98142d10f5dd6f",
     "grade": true,
     "grade_id": "cell-8ded8cc4a3d0d6ae",
     "locked": true,
     "points": 3,
     "schema_version": 3,
     "solution": false,
     "task": false
    }
   },
   "outputs": [],
   "source": [
    "# hidden tests"
   ]
  },
  {
   "cell_type": "markdown",
   "metadata": {
    "deletable": false,
    "editable": false,
    "nbgrader": {
     "cell_type": "markdown",
     "checksum": "55c2fc206f0cdd6b11e7dbdb0ef1b30f",
     "grade": false,
     "grade_id": "cell-09147ec61a636841",
     "locked": true,
     "schema_version": 3,
     "solution": false,
     "task": false
    }
   },
   "source": [
    "## Processed and merged data: shortcut for Tasks 6-8\n",
    "\n",
    "If you encounter problems with the first five tasks, you can uncomment and use the following code to load pickled `DataFrame` containing already merged and preprocessed weather and influenza datasets. You can use this data to complete tasks 6-8. "
   ]
  },
  {
   "cell_type": "code",
   "execution_count": null,
   "metadata": {},
   "outputs": [],
   "source": [
    "# import pickle\n",
    "\n",
    "# with open(\"data/data_merged.pickle\",\"rb\") as fp:\n",
    "#     data_merged = pickle.load(fp)"
   ]
  },
  {
   "cell_type": "markdown",
   "metadata": {
    "deletable": false,
    "editable": false,
    "heading_collapsed": true,
    "nbgrader": {
     "cell_type": "markdown",
     "checksum": "fbcd2960b9548f776fa1ed11e03b3b71",
     "grade": false,
     "grade_id": "cell-548ced5ba28ffd1d",
     "locked": true,
     "schema_version": 3,
     "solution": false,
     "task": false
    }
   },
   "source": [
    "## Task 6: Visualization\n",
    "Total number of points for completing this task: **15**"
   ]
  },
  {
   "cell_type": "markdown",
   "metadata": {
    "deletable": false,
    "editable": false,
    "hidden": true,
    "nbgrader": {
     "cell_type": "markdown",
     "checksum": "afd49d33e8acd1c6c563afbc5737d119",
     "grade": false,
     "grade_id": "cell-81213eee34f51f1e",
     "locked": true,
     "schema_version": 3,
     "solution": false,
     "task": false
    }
   },
   "source": [
    "To better understand the dataset, create visualisations of the merged data using `matplotlib` that help explore potential relationships between the variables before developing a model.\n",
    "\n",
    "\n",
    "**Note:** Hand in multiple figures. Use a proper naming configuration for the image files. Your plots should present information clearly (i.e. include titles, axis labels, legends,.. -> http://imgs.xkcd.com/comics/convincing.png). You should also describe which insights you gained from the figures.\n",
    "\n",
    "**Note 2:** Choice of a proper chart type is essential. Points might be subtracted when using inappropriate plots and descriptions, so please *do not* just use all possible plotting functions from `matplotlib` without understanding and justification.\n",
    "\n",
    "**Note 3:** You can also use `pandas` and `seaborn` python packages to create the plots."
   ]
  },
  {
   "cell_type": "code",
   "execution_count": null,
   "metadata": {
    "deletable": false,
    "hidden": true,
    "nbgrader": {
     "cell_type": "code",
     "checksum": "555b753da1126add2a162366ccc2156d",
     "grade": true,
     "grade_id": "cell-b2dee2cc5769f19d",
     "locked": false,
     "points": 8,
     "schema_version": 3,
     "solution": true,
     "task": false
    }
   },
   "outputs": [],
   "source": [
    "# YOUR CODE HERE\n",
    "raise NotImplementedError()"
   ]
  },
  {
   "cell_type": "code",
   "execution_count": null,
   "metadata": {
    "deletable": false,
    "editable": false,
    "nbgrader": {
     "cell_type": "code",
     "checksum": "86c59beb4cfdee812a236b2c854d836e",
     "grade": true,
     "grade_id": "cell-21627cd715a7045c",
     "locked": true,
     "points": 0,
     "schema_version": 3,
     "solution": false,
     "task": false
    }
   },
   "outputs": [],
   "source": [
    "# hidden tests"
   ]
  },
  {
   "cell_type": "markdown",
   "metadata": {
    "deletable": false,
    "editable": false,
    "nbgrader": {
     "cell_type": "markdown",
     "checksum": "92622e9ca23c5e4cd58596b0cb1a2b43",
     "grade": false,
     "grade_id": "cell-a792fb605f775fba",
     "locked": true,
     "schema_version": 3,
     "solution": false,
     "task": false
    }
   },
   "source": [
    "#### Findings \n",
    "Summarize your findings."
   ]
  },
  {
   "cell_type": "markdown",
   "metadata": {
    "deletable": false,
    "nbgrader": {
     "cell_type": "markdown",
     "checksum": "7a987d4f7aa0ba4f4bd6bde143ebd0d0",
     "grade": true,
     "grade_id": "cell-6773c3a4096a7ede",
     "locked": false,
     "points": 7,
     "schema_version": 3,
     "solution": true,
     "task": false
    }
   },
   "source": [
    "YOUR ANSWER HERE"
   ]
  },
  {
   "cell_type": "markdown",
   "metadata": {
    "deletable": false,
    "editable": false,
    "heading_collapsed": true,
    "nbgrader": {
     "cell_type": "markdown",
     "checksum": "7480917bf65be247a7ef6f73dee5d724",
     "grade": false,
     "grade_id": "cell-428d31b03a35afc4",
     "locked": true,
     "schema_version": 3,
     "solution": false,
     "task": false
    },
    "tags": []
   },
   "source": [
    "## Task 7: Influenza prediction model \n",
    "Total number of points for completing this task: **20**\n"
   ]
  },
  {
   "cell_type": "markdown",
   "metadata": {
    "deletable": false,
    "editable": false,
    "hidden": true,
    "nbgrader": {
     "cell_type": "markdown",
     "checksum": "b13403a2ea6c528bdf9fd0e1d2d7be18",
     "grade": false,
     "grade_id": "cell-c1cc534f001d58c8",
     "locked": true,
     "schema_version": 3,
     "solution": false,
     "task": false
    }
   },
   "source": [
    "Build and train a model using weather and influenza data from 2010 until 2020 using `scikit-learn`.\n",
    "\n",
    "Please structure and document your code so that it is easy to follow.\n",
    "\n",
    " - Choose appropriate machine learning algorithm(s) for the problem at hand\n",
    " - Experiment with different features and feature selection methods\n",
    " - Make sure your results are reproducible\n",
    " - Don't hesitate to go back to previous steps if you notice any data quality issues\n",
    " - If your chosen algorithm has specific parameters, explore their effect with different settings using 10-fold cross-validation\n",
    " - Experiment with different training/test splits\n",
    " - If appropriate, try different scaling approaches (min/max, z-score,..).\n",
    " - Present your results (e.g. by plotting predicted against true values)\n",
    " \n",
    " \n",
    " - How good does your model fit when you evaluate it with the validation data set?"
   ]
  },
  {
   "cell_type": "code",
   "execution_count": null,
   "metadata": {
    "deletable": false,
    "hidden": true,
    "nbgrader": {
     "cell_type": "code",
     "checksum": "ab750505e5466f4e1c3bc5570a6e2c0e",
     "grade": true,
     "grade_id": "cell-907be24a9572ebdf",
     "locked": false,
     "points": 14,
     "schema_version": 3,
     "solution": true,
     "task": false
    }
   },
   "outputs": [],
   "source": [
    "# YOUR CODE HERE\n",
    "raise NotImplementedError()"
   ]
  },
  {
   "cell_type": "markdown",
   "metadata": {
    "deletable": false,
    "editable": false,
    "hidden": true,
    "nbgrader": {
     "cell_type": "markdown",
     "checksum": "33820099efddb08c7ee924935008800e",
     "grade": false,
     "grade_id": "cell-fbde64b84f18c30d",
     "locked": true,
     "schema_version": 3,
     "solution": false,
     "task": false
    }
   },
   "source": [
    "#### Approach and algorithm\n",
    "Motivate your approach and choice of algorithm in the cell below"
   ]
  },
  {
   "cell_type": "markdown",
   "metadata": {
    "deletable": false,
    "hidden": true,
    "nbgrader": {
     "cell_type": "markdown",
     "checksum": "44485bf8902e463c978f88a2cabdacd1",
     "grade": true,
     "grade_id": "cell-47e2d2e152925e2d",
     "locked": false,
     "points": 6,
     "schema_version": 3,
     "solution": true,
     "task": false
    }
   },
   "source": [
    "YOUR ANSWER HERE"
   ]
  },
  {
   "cell_type": "markdown",
   "metadata": {},
   "source": [
    "## Task 8: Test model on last weeks of 2020/2021 season\n",
    "Total number of points for completing this task: **10**\n",
    "\n",
    "Load weather data for corresponding `Station code` for <span style=\"color:red\">January-April 2021</span> from `data/prediction/` and test the quality of your model with `data_influenza`.\n",
    "\n",
    "\n",
    "**Note:** This data is encoded with 'Central European (Windows 1250)' encoding."
   ]
  },
  {
   "cell_type": "code",
   "execution_count": null,
   "metadata": {
    "deletable": false,
    "nbgrader": {
     "cell_type": "code",
     "checksum": "35677e38e03167f3f8edb709d7c18897",
     "grade": true,
     "grade_id": "cell-0d3520c662d4040b",
     "locked": false,
     "points": 6,
     "schema_version": 3,
     "solution": true,
     "task": false
    }
   },
   "outputs": [],
   "source": [
    "# YOUR CODE HERE\n",
    "raise NotImplementedError()"
   ]
  },
  {
   "cell_type": "markdown",
   "metadata": {
    "deletable": false,
    "editable": false,
    "hidden": true,
    "nbgrader": {
     "cell_type": "markdown",
     "checksum": "ec6e036dffdcd57a0134f590dd9a3aba",
     "grade": false,
     "grade_id": "cell-840e1caf1a6cdddd",
     "locked": true,
     "schema_version": 3,
     "solution": false,
     "task": false
    }
   },
   "source": [
    "#### Findings \n",
    "Summarize your findings and lessons learned."
   ]
  },
  {
   "cell_type": "markdown",
   "metadata": {
    "deletable": false,
    "hidden": true,
    "nbgrader": {
     "cell_type": "markdown",
     "checksum": "0c2dd1d9d0c23b7b26dd8b74d446383e",
     "grade": true,
     "grade_id": "cell-48745fd0440c1380",
     "locked": false,
     "points": 4,
     "schema_version": 3,
     "solution": true,
     "task": false
    }
   },
   "source": [
    "YOUR ANSWER HERE"
   ]
  }
 ],
 "metadata": {
  "hide_input": false,
  "interpreter": {
   "hash": "bdb4926559fbf028975149cbd636ec37e68e8debfe577bff6322f27ec6af8501"
  },
  "kernelspec": {
   "display_name": "Python 3.9.5 64-bit ('dopp-XvwPdS_a-py3.9': poetry)",
   "name": "python3"
  },
  "language_info": {
   "codemirror_mode": {
    "name": "ipython",
    "version": 3
   },
   "file_extension": ".py",
   "mimetype": "text/x-python",
   "name": "python",
   "nbconvert_exporter": "python",
   "pygments_lexer": "ipython3",
   "version": "3.9.5"
  }
 },
 "nbformat": 4,
 "nbformat_minor": 4
}
